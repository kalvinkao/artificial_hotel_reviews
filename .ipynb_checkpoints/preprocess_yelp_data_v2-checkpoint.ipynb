{
 "cells": [
  {
   "cell_type": "code",
   "execution_count": 24,
   "metadata": {
    "scrolled": true
   },
   "outputs": [],
   "source": [
    "import json\n",
    "import pandas as pd\n",
    "from glob import glob\n",
    "import csv\n",
    "import numpy as np\n",
    "import matplotlib.pyplot as plt\n",
    "import collections"
   ]
  },
  {
   "cell_type": "code",
   "execution_count": 2,
   "metadata": {},
   "outputs": [],
   "source": [
    "review_path = '/home/kalvin_kao/yelp_challenge_dataset/review.csv'\n",
    "business_path = '/home/kalvin_kao/yelp_challenge_dataset/business.csv'"
   ]
  },
  {
   "cell_type": "code",
   "execution_count": 3,
   "metadata": {},
   "outputs": [],
   "source": [
    "review_df = pd.read_csv(review_path)"
   ]
  },
  {
   "cell_type": "code",
   "execution_count": 4,
   "metadata": {},
   "outputs": [],
   "source": [
    "business_df = pd.read_csv(business_path)"
   ]
  },
  {
   "cell_type": "code",
   "execution_count": 5,
   "metadata": {},
   "outputs": [],
   "source": [
    "#review_df.shape"
   ]
  },
  {
   "cell_type": "code",
   "execution_count": 6,
   "metadata": {},
   "outputs": [],
   "source": [
    "#print(review_df[review_df['stars']==5].head())\n",
    "#print(review_df[review_df['stars']==5].shape)"
   ]
  },
  {
   "cell_type": "code",
   "execution_count": 5,
   "metadata": {},
   "outputs": [],
   "source": [
    "five_star_review_df = review_df[review_df['stars']==5]\n",
    "five_star_review_series = five_star_review_df['text']"
   ]
  },
  {
   "cell_type": "code",
   "execution_count": 6,
   "metadata": {},
   "outputs": [
    {
     "name": "stdout",
     "output_type": "stream",
     "text": [
      "5261633    b\"My husband and I were here Feb 24-27 and sto...\n",
      "5261635    b\"I was here on Sunday 2/12/12. OMG let me say...\n",
      "5261636    b\"I love this place!! I always stop by after w...\n",
      "5261640    b'I go there with my friends in a group to rac...\n",
      "5261641    b'I called Alaskan to schedule an appointment ...\n",
      "Name: text, dtype: object\n"
     ]
    }
   ],
   "source": [
    "#print(five_star_review_df.tail())\n",
    "print(five_star_review_series.tail())"
   ]
  },
  {
   "cell_type": "code",
   "execution_count": 8,
   "metadata": {},
   "outputs": [
    {
     "name": "stdout",
     "output_type": "stream",
     "text": [
      "b'Love this place!\\n\\nThe cakes are delicious but really rich! They have cute cupcakes and lots of macaroons. \\n\\nThe best part - they now have a gluten free chocolate cake - which hubby and I think is better than the regular cake!'\n"
     ]
    }
   ],
   "source": [
    "print(review_df['text'][50])"
   ]
  },
  {
   "cell_type": "code",
   "execution_count": 9,
   "metadata": {},
   "outputs": [
    {
     "name": "stdout",
     "output_type": "stream",
     "text": [
      "['this', 'is', 'a', 'test']\n"
     ]
    }
   ],
   "source": [
    "test_a = \"this is a test\"\n",
    "print(test_a.split())"
   ]
  },
  {
   "cell_type": "code",
   "execution_count": 15,
   "metadata": {},
   "outputs": [],
   "source": [
    "#build a list of list of characters from the 5-star reviews\n",
    "def preprocess_review_series_v3(review_series):\n",
    "    review_list = []\n",
    "    for new_review in review_series:\n",
    "        clipped_review = new_review[2:-1]\n",
    "        char_list = list(clipped_review.lower())\n",
    "        semifinal_review = []\n",
    "        last_char = ''\n",
    "        for ascii_char in char_list:\n",
    "            if ascii_char == '\\\\' or last_char == '\\\\':\n",
    "                pass\n",
    "            else:\n",
    "                semifinal_review.append(ascii_char)\n",
    "            last_char = ascii_char\n",
    "        if len(semifinal_review) > 300:\n",
    "            #final_review = ['<SOR>'] + semifinal_review + ['<EOR>']\n",
    "            #print(final_review)\n",
    "            review_list.append(semifinal_review)\n",
    "    return review_list"
   ]
  },
  {
   "cell_type": "code",
   "execution_count": null,
   "metadata": {},
   "outputs": [],
   "source": [
    "#build a list of list of characters from the 5-star reviews\n",
    "def preprocess_review_series_v2(review_series):\n",
    "    review_list = []\n",
    "    for new_review in review_series:\n",
    "        clipped_review = new_review[2:-1]\n",
    "        char_list = list(clipped_review.lower())\n",
    "        semifinal_review = []\n",
    "        last_char = ''\n",
    "        for ascii_char in char_list:\n",
    "            if ascii_char == '\\\\' or last_char == '\\\\':\n",
    "                pass\n",
    "            else:\n",
    "                semifinal_review.append(ascii_char)\n",
    "            last_char = ascii_char\n",
    "        if len(semifinal_review) > 300:\n",
    "            final_review = ['<SOR>'] + semifinal_review + ['<EOR>']\n",
    "            #print(final_review)\n",
    "            review_list.append(final_review)\n",
    "    return review_list"
   ]
  },
  {
   "cell_type": "code",
   "execution_count": 7,
   "metadata": {},
   "outputs": [],
   "source": [
    "#build a list of list of characters from the 5-star reviews\n",
    "def preprocess_review_series(review_series):\n",
    "    review_list = []\n",
    "    for new_review in review_series:\n",
    "        clipped_review = new_review[2:-1]\n",
    "        char_list = list(clipped_review.lower())\n",
    "        semifinal_review = []\n",
    "        last_char = ''\n",
    "        for ascii_char in char_list:\n",
    "            if ascii_char == '\\\\' or last_char == '\\\\':\n",
    "                pass\n",
    "            else:\n",
    "                semifinal_review.append(ascii_char)\n",
    "            last_char = ascii_char\n",
    "        if len(semifinal_review) > 300:\n",
    "            final_review = ['<SOR>'] + semifinal_review + ['<EOR>']\n",
    "            #print(final_review)\n",
    "            review_list.append(final_review)\n",
    "    return review_list"
   ]
  },
  {
   "cell_type": "code",
   "execution_count": 16,
   "metadata": {},
   "outputs": [],
   "source": [
    "#preprocessed reviews\n",
    "review_list = preprocess_review_series(five_star_review_series)"
   ]
  },
  {
   "cell_type": "code",
   "execution_count": 17,
   "metadata": {},
   "outputs": [],
   "source": [
    "review_list = preprocess_review_series_v3(five_star_review_series)"
   ]
  },
  {
   "cell_type": "code",
   "execution_count": 18,
   "metadata": {},
   "outputs": [
    {
     "data": {
      "text/plain": [
       "1287777"
      ]
     },
     "execution_count": 18,
     "metadata": {},
     "output_type": "execute_result"
    }
   ],
   "source": [
    "len(review_list)"
   ]
  },
  {
   "cell_type": "code",
   "execution_count": 19,
   "metadata": {},
   "outputs": [
    {
     "data": {
      "text/plain": [
       "['t',\n",
       " 'h',\n",
       " 'i',\n",
       " 's',\n",
       " ' ',\n",
       " 'p',\n",
       " 'l',\n",
       " 'a',\n",
       " 'c',\n",
       " 'e',\n",
       " ' ',\n",
       " 'i',\n",
       " 's',\n",
       " ' ',\n",
       " 'a',\n",
       " 'w',\n",
       " 'e',\n",
       " 's',\n",
       " 'o',\n",
       " 'm',\n",
       " 'e',\n",
       " '!',\n",
       " ' ',\n",
       " 'd',\n",
       " 'e',\n",
       " 'f',\n",
       " 'i',\n",
       " 'n',\n",
       " 'i',\n",
       " 't',\n",
       " 'e',\n",
       " 'l',\n",
       " 'y',\n",
       " ' ',\n",
       " 'a',\n",
       " 'u',\n",
       " 't',\n",
       " 'h',\n",
       " 'e',\n",
       " 'n',\n",
       " 't',\n",
       " 'i',\n",
       " 'c',\n",
       " '!',\n",
       " '!',\n",
       " '!',\n",
       " 'm',\n",
       " 'y',\n",
       " ' ',\n",
       " 't',\n",
       " 'w',\n",
       " 'o',\n",
       " ' ',\n",
       " 'f',\n",
       " 'a',\n",
       " 'v',\n",
       " 'o',\n",
       " 'u',\n",
       " 'r',\n",
       " 'i',\n",
       " 't',\n",
       " 'e',\n",
       " ' ',\n",
       " 'd',\n",
       " 'i',\n",
       " 's',\n",
       " 'h',\n",
       " 'e',\n",
       " 's',\n",
       " ' ',\n",
       " 'a',\n",
       " 'r',\n",
       " 'e',\n",
       " ' ',\n",
       " 't',\n",
       " 'h',\n",
       " 'e',\n",
       " ' ',\n",
       " 'r',\n",
       " 'i',\n",
       " 'c',\n",
       " 'e',\n",
       " ' ',\n",
       " 'f',\n",
       " 'l',\n",
       " 'o',\n",
       " 'u',\n",
       " 'r',\n",
       " ' ',\n",
       " 'r',\n",
       " 'o',\n",
       " 'l',\n",
       " 'l',\n",
       " 's',\n",
       " ' ',\n",
       " 'a',\n",
       " 'n',\n",
       " 'd',\n",
       " ' ',\n",
       " 't',\n",
       " 'h',\n",
       " 'e',\n",
       " ' ',\n",
       " 'c',\n",
       " 'h',\n",
       " 'i',\n",
       " 'c',\n",
       " 'k',\n",
       " 'e',\n",
       " 'n',\n",
       " ' ',\n",
       " 'p',\n",
       " 'h',\n",
       " 'o',\n",
       " '.',\n",
       " ' ',\n",
       " 't',\n",
       " 'h',\n",
       " 'e',\n",
       " ' ',\n",
       " 'r',\n",
       " 'i',\n",
       " 'c',\n",
       " 'e',\n",
       " ' ',\n",
       " 'f',\n",
       " 'l',\n",
       " 'o',\n",
       " 'u',\n",
       " 'r',\n",
       " ' ',\n",
       " 'r',\n",
       " 'o',\n",
       " 'l',\n",
       " 'l',\n",
       " 's',\n",
       " ' ',\n",
       " 'a',\n",
       " 'r',\n",
       " 'e',\n",
       " ' ',\n",
       " 'a',\n",
       " 'l',\n",
       " 'w',\n",
       " 'a',\n",
       " 'y',\n",
       " 's',\n",
       " ' ',\n",
       " 'f',\n",
       " 'r',\n",
       " 'e',\n",
       " 's',\n",
       " 'h',\n",
       " ' ',\n",
       " 'w',\n",
       " 'h',\n",
       " 'e',\n",
       " 'n',\n",
       " 'e',\n",
       " 'v',\n",
       " 'e',\n",
       " 'r',\n",
       " ' ',\n",
       " 'i',\n",
       " \"'\",\n",
       " 'm',\n",
       " ' ',\n",
       " 't',\n",
       " 'h',\n",
       " 'e',\n",
       " 'r',\n",
       " 'e',\n",
       " '!',\n",
       " ' ',\n",
       " 'a',\n",
       " 'n',\n",
       " 'd',\n",
       " ' ',\n",
       " 't',\n",
       " 'h',\n",
       " 'e',\n",
       " ' ',\n",
       " 'c',\n",
       " 'h',\n",
       " 'i',\n",
       " 'c',\n",
       " 'k',\n",
       " 'e',\n",
       " 'n',\n",
       " ' ',\n",
       " 'p',\n",
       " 'h',\n",
       " 'o',\n",
       " ' ',\n",
       " 'i',\n",
       " 's',\n",
       " ' ',\n",
       " 'a',\n",
       " 'l',\n",
       " 'w',\n",
       " 'a',\n",
       " 'y',\n",
       " 's',\n",
       " ' ',\n",
       " 'f',\n",
       " 'l',\n",
       " 'a',\n",
       " 'v',\n",
       " 'o',\n",
       " 'u',\n",
       " 'r',\n",
       " 'f',\n",
       " 'u',\n",
       " 'l',\n",
       " '!',\n",
       " '!',\n",
       " ' ',\n",
       " 'm',\n",
       " 'm',\n",
       " 'm',\n",
       " 'm',\n",
       " '.',\n",
       " '.',\n",
       " '.',\n",
       " '.',\n",
       " 'j',\n",
       " 'u',\n",
       " 's',\n",
       " 't',\n",
       " ' ',\n",
       " 't',\n",
       " 'h',\n",
       " 'i',\n",
       " 'n',\n",
       " 'k',\n",
       " 'i',\n",
       " 'n',\n",
       " 'g',\n",
       " ' ',\n",
       " 'o',\n",
       " 'f',\n",
       " ' ',\n",
       " 'i',\n",
       " 't',\n",
       " ' ',\n",
       " 'm',\n",
       " 'a',\n",
       " 'k',\n",
       " 'e',\n",
       " 's',\n",
       " ' ',\n",
       " 'm',\n",
       " 'e',\n",
       " ' ',\n",
       " 'w',\n",
       " 'a',\n",
       " 'n',\n",
       " 't',\n",
       " ' ',\n",
       " 's',\n",
       " 'o',\n",
       " 'm',\n",
       " 'e',\n",
       " '!',\n",
       " 'm',\n",
       " 'y',\n",
       " ' ',\n",
       " 'b',\n",
       " 'o',\n",
       " 'y',\n",
       " 'f',\n",
       " 'r',\n",
       " 'i',\n",
       " 'e',\n",
       " 'n',\n",
       " 'd',\n",
       " ' ',\n",
       " 'i',\n",
       " 's',\n",
       " ' ',\n",
       " 'v',\n",
       " 'i',\n",
       " 'e',\n",
       " 't',\n",
       " 'n',\n",
       " 'a',\n",
       " 'm',\n",
       " 'e',\n",
       " 's',\n",
       " 'e',\n",
       " ' ',\n",
       " 'a',\n",
       " 'n',\n",
       " 'd',\n",
       " ' ',\n",
       " 'h',\n",
       " 'e',\n",
       " ' ',\n",
       " 'a',\n",
       " 'g',\n",
       " 'r',\n",
       " 'e',\n",
       " 'e',\n",
       " 's',\n",
       " ' ',\n",
       " 't',\n",
       " 'h',\n",
       " 'a',\n",
       " 't',\n",
       " ' ',\n",
       " 't',\n",
       " 'h',\n",
       " 'i',\n",
       " 's',\n",
       " ' ',\n",
       " 'p',\n",
       " 'l',\n",
       " 'a',\n",
       " 'c',\n",
       " 'e',\n",
       " ' ',\n",
       " 'i',\n",
       " 's',\n",
       " ' ',\n",
       " 'a',\n",
       " 'u',\n",
       " 't',\n",
       " 'h',\n",
       " 'e',\n",
       " 'n',\n",
       " 't',\n",
       " 'i',\n",
       " 'c',\n",
       " ' ',\n",
       " 'a',\n",
       " 'n',\n",
       " 'd',\n",
       " ' ',\n",
       " 'o',\n",
       " 'n',\n",
       " 'e',\n",
       " ' ',\n",
       " 'o',\n",
       " 'f',\n",
       " ' ',\n",
       " 't',\n",
       " 'h',\n",
       " 'e',\n",
       " ' ',\n",
       " 'b',\n",
       " 'e',\n",
       " 's',\n",
       " 't',\n",
       " ' ',\n",
       " 'v',\n",
       " 'i',\n",
       " 'e',\n",
       " 't',\n",
       " 'n',\n",
       " 'a',\n",
       " 'm',\n",
       " 'e',\n",
       " 's',\n",
       " 'e',\n",
       " ' ',\n",
       " 'r',\n",
       " 'e',\n",
       " 's',\n",
       " 't',\n",
       " 'a',\n",
       " 'u',\n",
       " 'r',\n",
       " 'a',\n",
       " 'n',\n",
       " 't',\n",
       " 's',\n",
       " ' ',\n",
       " 'h',\n",
       " 'e',\n",
       " ' ',\n",
       " 'h',\n",
       " 'a',\n",
       " 's',\n",
       " ' ',\n",
       " 'e',\n",
       " 'v',\n",
       " 'e',\n",
       " 'r',\n",
       " ' ',\n",
       " 'e',\n",
       " 'a',\n",
       " 't',\n",
       " 'e',\n",
       " 'n',\n",
       " ' ',\n",
       " 'a',\n",
       " 't',\n",
       " '.',\n",
       " 'p',\n",
       " 'r',\n",
       " 'i',\n",
       " 'c',\n",
       " 'e',\n",
       " 's',\n",
       " ' ',\n",
       " 'a',\n",
       " 'r',\n",
       " 'e',\n",
       " ' ',\n",
       " 'v',\n",
       " 'e',\n",
       " 'r',\n",
       " 'y',\n",
       " ' ',\n",
       " 'r',\n",
       " 'e',\n",
       " 'a',\n",
       " 's',\n",
       " 'o',\n",
       " 'n',\n",
       " 'a',\n",
       " 'b',\n",
       " 'l',\n",
       " 'e',\n",
       " ' ',\n",
       " 't',\n",
       " 'o',\n",
       " 'o',\n",
       " '!']"
      ]
     },
     "execution_count": 19,
     "metadata": {},
     "output_type": "execute_result"
    }
   ],
   "source": [
    "review_list[4]"
   ]
  },
  {
   "cell_type": "code",
   "execution_count": 10,
   "metadata": {},
   "outputs": [],
   "source": [
    "word_level_reviews = [\"\".join(sublist) for sublist in review_list]"
   ]
  },
  {
   "cell_type": "code",
   "execution_count": 11,
   "metadata": {},
   "outputs": [
    {
     "data": {
      "text/plain": [
       "[\"<SOR>small unassuming place that changes their menu every so often. cool decor and vibe inside their 30 seat restaurant. call for a reservation. we had their beef tartar and pork belly to start and a salmon dish and lamb meal for mains. everything was incredible! i could go on at length about how all the listed ingredients really make their dishes amazing but honestly you just need to go. a bit outside of downtown montreal but take the metro out and it's less than a 10 minute walk from the station.<EOR>\",\n",
       " \"<SOR>lester's is located in a beautiful neighborhood and has been there since 1951. they are known for smoked meat which most deli's have but their brisket sandwich is what i come to montreal for. they've got about 12 seats outside to go along with the inside. the smoked meat is up there in quality and taste with schwartz's and you'll find less tourists at lester's as well.<EOR>\",\n",
       " \"<SOR>cycle pub las vegas was a blast! got a groupon and rented the bike for 11 of us for an afternoon tour. each bar was more fun than the last. downtown las vegas has changed so much and for the better. we had a wide age range in this group from early 20's to mid 50's and everyone had so much fun! our driver tony was knowledgable , friendly and just plain fun! would recommend this to anyone looking to do something different away from the strip. you won't be disappointed!<EOR>\",\n",
       " '<SOR>love this place!peggy is great with dogs and does a great job! she is very patience with him and will make any adjustments you need before you leave the store. my little guy has no problems coming here.they also have very good bully sticks (the non-smelly ones) that my little guy and his friends love!<EOR>',\n",
       " \"<SOR>this place is awesome! definitely authentic!!!my two favourite dishes are the rice flour rolls and the chicken pho. the rice flour rolls are always fresh whenever i'm there! and the chicken pho is always flavourful!! mmmm....just thinking of it makes me want some!my boyfriend is vietnamese and he agrees that this place is authentic and one of the best vietnamese restaurants he has ever eaten at.prices are very reasonable too!<EOR>\"]"
      ]
     },
     "execution_count": 11,
     "metadata": {},
     "output_type": "execute_result"
    }
   ],
   "source": [
    "word_level_reviews[:5]"
   ]
  },
  {
   "cell_type": "code",
   "execution_count": 17,
   "metadata": {},
   "outputs": [
    {
     "data": {
      "text/plain": [
       "10"
      ]
     },
     "execution_count": 17,
     "metadata": {},
     "output_type": "execute_result"
    }
   ],
   "source": [
    "len(word_level_reviews[0].split()[1])"
   ]
  },
  {
   "cell_type": "code",
   "execution_count": 18,
   "metadata": {},
   "outputs": [],
   "source": [
    "total_chars = 0\n",
    "total_words = 0\n",
    "chars_by_review = []\n",
    "words_by_review = []\n",
    "for review in word_level_reviews:\n",
    "    chars = 0\n",
    "    words = 0\n",
    "    word_list = review.split()\n",
    "    for word in word_list:\n",
    "        total_chars += len(word)\n",
    "        total_words += 1\n",
    "        chars += len(word)\n",
    "        words += 1\n",
    "    chars_by_review.append(chars)\n",
    "    words_by_review.append(words)"
   ]
  },
  {
   "cell_type": "code",
   "execution_count": 19,
   "metadata": {},
   "outputs": [
    {
     "name": "stdout",
     "output_type": "stream",
     "text": [
      "4.532139487842184\n"
     ]
    }
   ],
   "source": [
    "print(total_chars/total_words)"
   ]
  },
  {
   "cell_type": "code",
   "execution_count": 22,
   "metadata": {},
   "outputs": [
    {
     "data": {
      "text/plain": [
       "26.78571428571429"
      ]
     },
     "execution_count": 22,
     "metadata": {},
     "output_type": "execute_result"
    }
   ],
   "source": [
    "150/5.6"
   ]
  },
  {
   "cell_type": "code",
   "execution_count": 23,
   "metadata": {},
   "outputs": [],
   "source": [
    "chars_by_review_2 = np.array(chars_by_review, dtype=np.float)\n",
    "words_by_review_2 = np.array(words_by_review, dtype=np.float)"
   ]
  },
  {
   "cell_type": "code",
   "execution_count": 24,
   "metadata": {},
   "outputs": [],
   "source": [
    "chars_per_word_by_review = chars_by_review_2/words_by_review_2"
   ]
  },
  {
   "cell_type": "code",
   "execution_count": 31,
   "metadata": {},
   "outputs": [],
   "source": [
    "chars_per_word_by_review_v2 = pd.Series(chars_per_word_by_review)"
   ]
  },
  {
   "cell_type": "code",
   "execution_count": 32,
   "metadata": {},
   "outputs": [
    {
     "data": {
      "text/plain": [
       "count    1.287777e+06\n",
       "mean     4.746888e+00\n",
       "std      1.486093e+01\n",
       "min      1.729084e+00\n",
       "25%      4.333333e+00\n",
       "50%      4.530120e+00\n",
       "75%      4.756972e+00\n",
       "max      4.270000e+03\n",
       "dtype: float64"
      ]
     },
     "execution_count": 32,
     "metadata": {},
     "output_type": "execute_result"
    }
   ],
   "source": [
    "chars_per_word_by_review_v2.describe()"
   ]
  },
  {
   "cell_type": "code",
   "execution_count": 33,
   "metadata": {},
   "outputs": [
    {
     "data": {
      "text/plain": [
       "(array([  0.00000000e+00,   0.00000000e+00,   0.00000000e+00,\n",
       "          0.00000000e+00,   0.00000000e+00,   0.00000000e+00,\n",
       "          0.00000000e+00,   0.00000000e+00,   0.00000000e+00,\n",
       "          0.00000000e+00,   0.00000000e+00,   0.00000000e+00,\n",
       "          0.00000000e+00,   0.00000000e+00,   0.00000000e+00,\n",
       "          0.00000000e+00,   0.00000000e+00,   0.00000000e+00,\n",
       "          0.00000000e+00,   0.00000000e+00,   0.00000000e+00,\n",
       "          0.00000000e+00,   0.00000000e+00,   0.00000000e+00,\n",
       "          0.00000000e+00,   0.00000000e+00,   0.00000000e+00,\n",
       "          0.00000000e+00,   0.00000000e+00,   0.00000000e+00,\n",
       "          0.00000000e+00,   0.00000000e+00,   0.00000000e+00,\n",
       "          0.00000000e+00,   1.00000000e+00,   0.00000000e+00,\n",
       "          0.00000000e+00,   0.00000000e+00,   0.00000000e+00,\n",
       "          0.00000000e+00,   0.00000000e+00,   0.00000000e+00,\n",
       "          0.00000000e+00,   0.00000000e+00,   0.00000000e+00,\n",
       "          1.00000000e+00,   0.00000000e+00,   0.00000000e+00,\n",
       "          0.00000000e+00,   0.00000000e+00,   0.00000000e+00,\n",
       "          0.00000000e+00,   0.00000000e+00,   0.00000000e+00,\n",
       "          0.00000000e+00,   0.00000000e+00,   0.00000000e+00,\n",
       "          0.00000000e+00,   0.00000000e+00,   0.00000000e+00,\n",
       "          1.00000000e+00,   0.00000000e+00,   2.00000000e+00,\n",
       "          3.00000000e+00,   2.00000000e+00,   2.00000000e+00,\n",
       "          2.00000000e+00,   5.00000000e+00,   1.60000000e+01,\n",
       "          3.40000000e+01,   5.80000000e+01,   1.14000000e+02,\n",
       "          2.70000000e+02,   4.66000000e+02,   9.20000000e+02,\n",
       "          1.80300000e+03,   3.02700000e+03,   5.11400000e+03,\n",
       "          8.01200000e+03,   1.12440000e+04,   1.97380000e+04,\n",
       "          2.61780000e+04,   3.42580000e+04,   4.40330000e+04,\n",
       "          5.41290000e+04,   6.45520000e+04,   7.31200000e+04,\n",
       "          7.72700000e+04,   8.44590000e+04,   8.08280000e+04,\n",
       "          8.65270000e+04,   8.09140000e+04,   7.26570000e+04,\n",
       "          6.75900000e+04,   5.94270000e+04,   5.57620000e+04,\n",
       "          4.46800000e+04,   3.87140000e+04,   3.34710000e+04,\n",
       "          2.44570000e+04,   2.60230000e+04,   1.94130000e+04,\n",
       "          1.50760000e+04,   1.24220000e+04,   1.01210000e+04,\n",
       "          8.73100000e+03,   6.61900000e+03,   5.36700000e+03,\n",
       "          4.51200000e+03,   3.36000000e+03,   3.12000000e+03,\n",
       "          2.43400000e+03,   1.96100000e+03,   1.62800000e+03,\n",
       "          1.48700000e+03,   1.32900000e+03,   1.01500000e+03,\n",
       "          9.25000000e+02,   8.36000000e+02,   6.71000000e+02,\n",
       "          7.63000000e+02,   5.83000000e+02,   4.89000000e+02,\n",
       "          4.57000000e+02,   4.34000000e+02,   3.68000000e+02,\n",
       "          3.47000000e+02,   2.86000000e+02,   2.92000000e+02,\n",
       "          2.40000000e+02,   2.22000000e+02,   2.03000000e+02,\n",
       "          1.62000000e+02,   1.40000000e+02,   1.38000000e+02,\n",
       "          1.26000000e+02,   1.21000000e+02,   8.70000000e+01,\n",
       "          1.04000000e+02,   7.40000000e+01,   7.60000000e+01,\n",
       "          5.90000000e+01,   5.30000000e+01,   6.10000000e+01,\n",
       "          5.70000000e+01,   4.20000000e+01,   4.30000000e+01,\n",
       "          2.20000000e+01,   3.40000000e+01,   3.30000000e+01,\n",
       "          3.20000000e+01,   2.80000000e+01,   1.80000000e+01,\n",
       "          2.10000000e+01,   1.60000000e+01,   2.00000000e+01,\n",
       "          2.90000000e+01,   8.00000000e+00,   1.00000000e+01,\n",
       "          8.00000000e+00,   1.20000000e+01,   9.00000000e+00,\n",
       "          8.00000000e+00,   9.00000000e+00,   7.00000000e+00,\n",
       "          7.00000000e+00,   6.00000000e+00,   6.00000000e+00,\n",
       "          2.00000000e+00,   4.00000000e+00,   3.00000000e+00,\n",
       "          3.00000000e+00,   7.00000000e+00,   4.00000000e+00,\n",
       "          6.00000000e+00,   2.00000000e+00,   3.00000000e+00,\n",
       "          0.00000000e+00,   3.00000000e+00,   1.00000000e+00,\n",
       "          2.00000000e+00,   3.00000000e+00,   1.00000000e+00,\n",
       "          3.00000000e+00,   0.00000000e+00,   0.00000000e+00,\n",
       "          2.00000000e+00,   2.00000000e+00,   2.00000000e+00,\n",
       "          1.00000000e+00,   1.00000000e+00,   0.00000000e+00,\n",
       "          0.00000000e+00,   3.00000000e+00,   1.00000000e+00,\n",
       "          2.00000000e+00,   0.00000000e+00,   2.00000000e+00,\n",
       "          1.00000000e+00,   2.00000000e+00]),\n",
       " array([  0.  ,   0.05,   0.1 ,   0.15,   0.2 ,   0.25,   0.3 ,   0.35,\n",
       "          0.4 ,   0.45,   0.5 ,   0.55,   0.6 ,   0.65,   0.7 ,   0.75,\n",
       "          0.8 ,   0.85,   0.9 ,   0.95,   1.  ,   1.05,   1.1 ,   1.15,\n",
       "          1.2 ,   1.25,   1.3 ,   1.35,   1.4 ,   1.45,   1.5 ,   1.55,\n",
       "          1.6 ,   1.65,   1.7 ,   1.75,   1.8 ,   1.85,   1.9 ,   1.95,\n",
       "          2.  ,   2.05,   2.1 ,   2.15,   2.2 ,   2.25,   2.3 ,   2.35,\n",
       "          2.4 ,   2.45,   2.5 ,   2.55,   2.6 ,   2.65,   2.7 ,   2.75,\n",
       "          2.8 ,   2.85,   2.9 ,   2.95,   3.  ,   3.05,   3.1 ,   3.15,\n",
       "          3.2 ,   3.25,   3.3 ,   3.35,   3.4 ,   3.45,   3.5 ,   3.55,\n",
       "          3.6 ,   3.65,   3.7 ,   3.75,   3.8 ,   3.85,   3.9 ,   3.95,\n",
       "          4.  ,   4.05,   4.1 ,   4.15,   4.2 ,   4.25,   4.3 ,   4.35,\n",
       "          4.4 ,   4.45,   4.5 ,   4.55,   4.6 ,   4.65,   4.7 ,   4.75,\n",
       "          4.8 ,   4.85,   4.9 ,   4.95,   5.  ,   5.05,   5.1 ,   5.15,\n",
       "          5.2 ,   5.25,   5.3 ,   5.35,   5.4 ,   5.45,   5.5 ,   5.55,\n",
       "          5.6 ,   5.65,   5.7 ,   5.75,   5.8 ,   5.85,   5.9 ,   5.95,\n",
       "          6.  ,   6.05,   6.1 ,   6.15,   6.2 ,   6.25,   6.3 ,   6.35,\n",
       "          6.4 ,   6.45,   6.5 ,   6.55,   6.6 ,   6.65,   6.7 ,   6.75,\n",
       "          6.8 ,   6.85,   6.9 ,   6.95,   7.  ,   7.05,   7.1 ,   7.15,\n",
       "          7.2 ,   7.25,   7.3 ,   7.35,   7.4 ,   7.45,   7.5 ,   7.55,\n",
       "          7.6 ,   7.65,   7.7 ,   7.75,   7.8 ,   7.85,   7.9 ,   7.95,\n",
       "          8.  ,   8.05,   8.1 ,   8.15,   8.2 ,   8.25,   8.3 ,   8.35,\n",
       "          8.4 ,   8.45,   8.5 ,   8.55,   8.6 ,   8.65,   8.7 ,   8.75,\n",
       "          8.8 ,   8.85,   8.9 ,   8.95,   9.  ,   9.05,   9.1 ,   9.15,\n",
       "          9.2 ,   9.25,   9.3 ,   9.35,   9.4 ,   9.45,   9.5 ,   9.55,\n",
       "          9.6 ,   9.65,   9.7 ,   9.75,   9.8 ,   9.85,   9.9 ,   9.95,  10.  ]),\n",
       " <a list of 200 Patch objects>)"
      ]
     },
     "execution_count": 33,
     "metadata": {},
     "output_type": "execute_result"
    },
    {
     "data": {
      "image/png": "[encoded data removed]",
      "text/plain": [
       "<matplotlib.figure.Figure at 0x7f16ba16b978>"
      ]
     },
     "metadata": {},
     "output_type": "display_data"
    }
   ],
   "source": [
    "#bins = numpy.linspace(0, 4300, 100)\n",
    "plt.hist(chars_per_word_by_review, bins=200, range=(0,10))"
   ]
  },
  {
   "cell_type": "code",
   "execution_count": 20,
   "metadata": {},
   "outputs": [],
   "source": [
    "#combined_review_list = [item for sublist in review_list for item in sublist]\n",
    "training_review_list = [item for sublist in review_list[:250000] for item in sublist]"
   ]
  },
  {
   "cell_type": "code",
   "execution_count": 21,
   "metadata": {},
   "outputs": [],
   "source": [
    "training_review_list = [item for sublist in review_list for item in sublist]"
   ]
  },
  {
   "cell_type": "code",
   "execution_count": 22,
   "metadata": {},
   "outputs": [
    {
     "data": {
      "text/plain": [
       "['s', 'm', 'a', 'l', 'l', ' ', 'u', 'n', 'a', 's']"
      ]
     },
     "execution_count": 22,
     "metadata": {},
     "output_type": "execute_result"
    }
   ],
   "source": [
    "training_review_list[:10]"
   ]
  },
  {
   "cell_type": "code",
   "execution_count": 25,
   "metadata": {},
   "outputs": [],
   "source": [
    "char_counts = collections.Counter(training_review_list).items()"
   ]
  },
  {
   "cell_type": "code",
   "execution_count": 26,
   "metadata": {},
   "outputs": [
    {
     "name": "stdout",
     "output_type": "stream",
     "text": [
      "('s', 45131787)\n",
      "('m', 17939385)\n",
      "('a', 62212862)\n",
      "('l', 30298699)\n",
      "(' ', 170891677)\n",
      "('u', 20360386)\n",
      "('n', 45577871)\n",
      "('i', 51329824)\n",
      "('g', 15113272)\n",
      "('p', 14001221)\n",
      "('c', 21006444)\n",
      "('e', 92316700)\n",
      "('t', 64640231)\n",
      "('h', 36132518)\n",
      "('r', 41788940)\n",
      "('v', 9320261)\n",
      "('y', 17492876)\n",
      "('o', 53463089)\n",
      "('f', 16205387)\n",
      "('.', 11377105)\n",
      "('d', 29520928)\n",
      "('b', 11500243)\n",
      "('3', 485165)\n",
      "('0', 557113)\n",
      "('w', 17185948)\n",
      "('k', 7271459)\n",
      "('!', 2821812)\n",
      "('z', 1252844)\n",
      "('j', 1297291)\n",
      "(\"'\", 2391960)\n",
      "('1', 488462)\n",
      "('9', 235750)\n",
      "('5', 364611)\n",
      "('2', 398182)\n",
      "('q', 741803)\n",
      "(',', 6043855)\n",
      "('(', 667807)\n",
      "('-', 1141370)\n",
      "(')', 756278)\n",
      "('x', 1620031)\n",
      "('/', 260724)\n",
      "('\"', 436597)\n",
      "('$', 237886)\n",
      "('7', 104691)\n",
      "('?', 196611)\n",
      "('4', 220947)\n",
      "('6', 136025)\n",
      "('*', 70355)\n",
      "(':', 307208)\n",
      "('8', 191709)\n",
      "('_', 14430)\n",
      "('&', 187219)\n",
      "(';', 90908)\n",
      "('=', 16682)\n",
      "('#', 18480)\n",
      "('%', 30945)\n",
      "('+', 43913)\n",
      "('@', 5841)\n",
      "('~', 9463)\n",
      "('[', 3911)\n",
      "(']', 4540)\n",
      "('`', 852)\n",
      "('^', 2144)\n",
      "('|', 958)\n",
      "('}', 632)\n",
      "('{', 555)\n"
     ]
    }
   ],
   "source": [
    "for item in char_counts:\n",
    "    print(item)"
   ]
  },
  {
   "cell_type": "code",
   "execution_count": 14,
   "metadata": {},
   "outputs": [],
   "source": [
    "#combined_review_list[:10]"
   ]
  },
  {
   "cell_type": "code",
   "execution_count": 12,
   "metadata": {},
   "outputs": [],
   "source": [
    "#unique_characters = list(set(combined_review_list))\n",
    "unique_characters = list(set(training_review_list))"
   ]
  },
  {
   "cell_type": "code",
   "execution_count": 13,
   "metadata": {},
   "outputs": [],
   "source": [
    "#vocabulary\n",
    "char_dict = {w:i for i, w in enumerate(unique_characters)}"
   ]
  },
  {
   "cell_type": "code",
   "execution_count": 17,
   "metadata": {},
   "outputs": [
    {
     "name": "stdout",
     "output_type": "stream",
     "text": [
      "{' ': 0, 'v': 1, 'z': 2, '7': 3, 'x': 4, 'b': 5, 'p': 6, 'y': 7, '=': 8, '~': 9, '#': 10, ';': 11, '.': 12, '{': 13, 's': 14, '(': 15, '5': 16, '\"': 17, '?': 18, 'j': 19, '9': 20, 'o': 21, '_': 22, ')': 23, '`': 24, 'q': 25, '+': 26, 'c': 27, ':': 28, '1': 29, \"'\": 30, '*': 31, 'a': 32, 'k': 33, 'l': 34, 'd': 35, '$': 36, '[': 37, '/': 38, '&': 39, ']': 40, 'u': 41, '3': 42, ',': 43, '}': 44, '0': 45, 'h': 46, '@': 47, '!': 48, 'i': 49, '6': 50, 'r': 51, '4': 52, '2': 53, 'g': 54, 'm': 55, '-': 56, '^': 57, '%': 58, 't': 59, '8': 60, 'w': 61, '<SOR>': 62, 'n': 63, 'e': 64, '<EOR>': 65, 'f': 66, '|': 67}\n"
     ]
    }
   ],
   "source": [
    "#still need to add a token for 'unknown'\n",
    "print(char_dict)"
   ]
  },
  {
   "cell_type": "code",
   "execution_count": 14,
   "metadata": {},
   "outputs": [],
   "source": [
    "#convert to flat (1D) np.array(int) of ids\n",
    "#add memory to VM and remove 1000 slice\n",
    "#combined_review_ids = [char_dict.get(token) for token in combined_review_list[:1000]]\n",
    "training_review_ids = [char_dict.get(token) for token in training_review_list]"
   ]
  },
  {
   "cell_type": "code",
   "execution_count": null,
   "metadata": {},
   "outputs": [],
   "source": [
    "#combined_review_ids[:50]\n",
    "training_review_ids[:100]"
   ]
  },
  {
   "cell_type": "code",
   "execution_count": 16,
   "metadata": {},
   "outputs": [
    {
     "name": "stdout",
     "output_type": "stream",
     "text": [
      "[28 53 25 ..., 41 21 37]\n"
     ]
    }
   ],
   "source": [
    "#all_reviews = np.array(combined_review_ids)\n",
    "#print(all_reviews)\n",
    "train_ids = np.array(training_review_ids)\n",
    "print(train_ids)"
   ]
  }
 ],
 "metadata": {
  "kernelspec": {
   "display_name": "Python 3",
   "language": "python",
   "name": "python3"
  },
  "language_info": {
   "codemirror_mode": {
    "name": "ipython",
    "version": 3
   },
   "file_extension": ".py",
   "mimetype": "text/x-python",
   "name": "python",
   "nbconvert_exporter": "python",
   "pygments_lexer": "ipython3",
   "version": "3.6.4"
  }
 },
 "nbformat": 4,
 "nbformat_minor": 2
}
