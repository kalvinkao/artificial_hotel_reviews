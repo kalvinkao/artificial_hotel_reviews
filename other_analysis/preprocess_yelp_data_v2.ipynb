{
 "cells": [
  {
   "cell_type": "code",
   "execution_count": 1,
   "metadata": {
    "scrolled": true
   },
   "outputs": [],
   "source": [
    "import json\n",
    "import pandas as pd\n",
    "from glob import glob\n",
    "import csv\n",
    "import numpy as np\n",
    "import matplotlib.pyplot as plt\n",
    "import collections"
   ]
  },
  {
   "cell_type": "code",
   "execution_count": 2,
   "metadata": {},
   "outputs": [],
   "source": [
    "review_path = '/home/kalvin_kao/yelp_challenge_dataset/review.csv'\n",
    "business_path = '/home/kalvin_kao/yelp_challenge_dataset/business.csv'"
   ]
  },
  {
   "cell_type": "code",
   "execution_count": 3,
   "metadata": {},
   "outputs": [],
   "source": [
    "review_df = pd.read_csv(review_path)"
   ]
  },
  {
   "cell_type": "code",
   "execution_count": 4,
   "metadata": {},
   "outputs": [],
   "source": [
    "business_df = pd.read_csv(business_path)"
   ]
  },
  {
   "cell_type": "code",
   "execution_count": 5,
   "metadata": {},
   "outputs": [],
   "source": [
    "#review_df.shape"
   ]
  },
  {
   "cell_type": "code",
   "execution_count": 6,
   "metadata": {},
   "outputs": [],
   "source": [
    "#print(review_df[review_df['stars']==5].head())\n",
    "#print(review_df[review_df['stars']==5].shape)"
   ]
  },
  {
   "cell_type": "code",
   "execution_count": 25,
   "metadata": {},
   "outputs": [],
   "source": [
    "five_star_review_df = review_df[review_df['stars']==1]\n",
    "five_star_review_series = five_star_review_df['text']"
   ]
  },
  {
   "cell_type": "code",
   "execution_count": 26,
   "metadata": {},
   "outputs": [
    {
     "name": "stdout",
     "output_type": "stream",
     "text": [
      "5261639    b\"All I have to say is thank GOD I have a lot ...\n",
      "5261645    b'Was there for a wedding with your standard 1...\n",
      "5261648    b\"Went to this restaurant for Dim Sum.  Asked ...\n",
      "5261662    b\"This place is retarded!!!  Called on a thurs...\n",
      "5261664    b\"Bought groupon $39 for 4 months from groupon...\n",
      "Name: text, dtype: object\n"
     ]
    }
   ],
   "source": [
    "#print(five_star_review_df.tail())\n",
    "print(five_star_review_series.tail())"
   ]
  },
  {
   "cell_type": "code",
   "execution_count": 8,
   "metadata": {},
   "outputs": [
    {
     "name": "stdout",
     "output_type": "stream",
     "text": [
      "b'Love this place!\\n\\nThe cakes are delicious but really rich! They have cute cupcakes and lots of macaroons. \\n\\nThe best part - they now have a gluten free chocolate cake - which hubby and I think is better than the regular cake!'\n"
     ]
    }
   ],
   "source": [
    "print(review_df['text'][50])"
   ]
  },
  {
   "cell_type": "code",
   "execution_count": 9,
   "metadata": {},
   "outputs": [
    {
     "name": "stdout",
     "output_type": "stream",
     "text": [
      "['this', 'is', 'a', 'test']\n"
     ]
    }
   ],
   "source": [
    "test_a = \"this is a test\"\n",
    "print(test_a.split())"
   ]
  },
  {
   "cell_type": "code",
   "execution_count": 6,
   "metadata": {},
   "outputs": [],
   "source": [
    "#build a list of list of characters from the 5-star reviews\n",
    "def preprocess_review_series_v3(review_series):\n",
    "    review_list = []\n",
    "    for new_review in review_series:\n",
    "        clipped_review = new_review[2:-1]\n",
    "        char_list = list(clipped_review.lower())\n",
    "        semifinal_review = []\n",
    "        last_char = ''\n",
    "        for ascii_char in char_list:\n",
    "            if ascii_char == '\\\\' or last_char == '\\\\':\n",
    "                pass\n",
    "            else:\n",
    "                semifinal_review.append(ascii_char)\n",
    "            last_char = ascii_char\n",
    "        if len(semifinal_review) > 300:\n",
    "            #final_review = ['<SOR>'] + semifinal_review + ['<EOR>']\n",
    "            #print(final_review)\n",
    "            review_list.append(semifinal_review)\n",
    "    return review_list"
   ]
  },
  {
   "cell_type": "code",
   "execution_count": 7,
   "metadata": {},
   "outputs": [],
   "source": [
    "#build a list of list of characters from the 5-star reviews\n",
    "def preprocess_review_series_v2(review_series):\n",
    "    review_list = []\n",
    "    for new_review in review_series:\n",
    "        clipped_review = new_review[2:-1]\n",
    "        char_list = list(clipped_review.lower())\n",
    "        semifinal_review = []\n",
    "        last_char = ''\n",
    "        for ascii_char in char_list:\n",
    "            if ascii_char == '\\\\' or last_char == '\\\\':\n",
    "                pass\n",
    "            else:\n",
    "                semifinal_review.append(ascii_char)\n",
    "            last_char = ascii_char\n",
    "        if len(semifinal_review) > 300:\n",
    "            final_review = ['<SOR>'] + semifinal_review + ['<EOR>']\n",
    "            #print(final_review)\n",
    "            review_list.append(final_review)\n",
    "    return review_list"
   ]
  },
  {
   "cell_type": "code",
   "execution_count": 7,
   "metadata": {},
   "outputs": [],
   "source": [
    "#build a list of list of characters from the 5-star reviews\n",
    "def preprocess_review_series(review_series):\n",
    "    review_list = []\n",
    "    for new_review in review_series:\n",
    "        clipped_review = new_review[2:-1]\n",
    "        char_list = list(clipped_review.lower())\n",
    "        semifinal_review = []\n",
    "        last_char = ''\n",
    "        for ascii_char in char_list:\n",
    "            if ascii_char == '\\\\' or last_char == '\\\\':\n",
    "                pass\n",
    "            else:\n",
    "                semifinal_review.append(ascii_char)\n",
    "            last_char = ascii_char\n",
    "        if len(semifinal_review) > 300:\n",
    "            final_review = ['<SOR>'] + semifinal_review + ['<EOR>']\n",
    "            #print(final_review)\n",
    "            review_list.append(final_review)\n",
    "    return review_list"
   ]
  },
  {
   "cell_type": "code",
   "execution_count": 16,
   "metadata": {},
   "outputs": [],
   "source": [
    "#preprocessed reviews\n",
    "review_list = preprocess_review_series(five_star_review_series)"
   ]
  },
  {
   "cell_type": "code",
   "execution_count": 27,
   "metadata": {},
   "outputs": [],
   "source": [
    "review_list = preprocess_review_series_v3(five_star_review_series)"
   ]
  },
  {
   "cell_type": "code",
   "execution_count": 28,
   "metadata": {},
   "outputs": [
    {
     "data": {
      "text/plain": [
       "548086"
      ]
     },
     "execution_count": 28,
     "metadata": {},
     "output_type": "execute_result"
    }
   ],
   "source": [
    "len(review_list)"
   ]
  },
  {
   "cell_type": "code",
   "execution_count": 10,
   "metadata": {},
   "outputs": [
    {
     "data": {
      "text/plain": [
       "['t',\n",
       " 'h',\n",
       " 'i',\n",
       " 's',\n",
       " ' ',\n",
       " 'p',\n",
       " 'l',\n",
       " 'a',\n",
       " 'c',\n",
       " 'e',\n",
       " ' ',\n",
       " 'i',\n",
       " 's',\n",
       " ' ',\n",
       " 'a',\n",
       " 'w',\n",
       " 'e',\n",
       " 's',\n",
       " 'o',\n",
       " 'm',\n",
       " 'e',\n",
       " '!',\n",
       " ' ',\n",
       " 'd',\n",
       " 'e',\n",
       " 'f',\n",
       " 'i',\n",
       " 'n',\n",
       " 'i',\n",
       " 't',\n",
       " 'e',\n",
       " 'l',\n",
       " 'y',\n",
       " ' ',\n",
       " 'a',\n",
       " 'u',\n",
       " 't',\n",
       " 'h',\n",
       " 'e',\n",
       " 'n',\n",
       " 't',\n",
       " 'i',\n",
       " 'c',\n",
       " '!',\n",
       " '!',\n",
       " '!',\n",
       " 'm',\n",
       " 'y',\n",
       " ' ',\n",
       " 't',\n",
       " 'w',\n",
       " 'o',\n",
       " ' ',\n",
       " 'f',\n",
       " 'a',\n",
       " 'v',\n",
       " 'o',\n",
       " 'u',\n",
       " 'r',\n",
       " 'i',\n",
       " 't',\n",
       " 'e',\n",
       " ' ',\n",
       " 'd',\n",
       " 'i',\n",
       " 's',\n",
       " 'h',\n",
       " 'e',\n",
       " 's',\n",
       " ' ',\n",
       " 'a',\n",
       " 'r',\n",
       " 'e',\n",
       " ' ',\n",
       " 't',\n",
       " 'h',\n",
       " 'e',\n",
       " ' ',\n",
       " 'r',\n",
       " 'i',\n",
       " 'c',\n",
       " 'e',\n",
       " ' ',\n",
       " 'f',\n",
       " 'l',\n",
       " 'o',\n",
       " 'u',\n",
       " 'r',\n",
       " ' ',\n",
       " 'r',\n",
       " 'o',\n",
       " 'l',\n",
       " 'l',\n",
       " 's',\n",
       " ' ',\n",
       " 'a',\n",
       " 'n',\n",
       " 'd',\n",
       " ' ',\n",
       " 't',\n",
       " 'h',\n",
       " 'e',\n",
       " ' ',\n",
       " 'c',\n",
       " 'h',\n",
       " 'i',\n",
       " 'c',\n",
       " 'k',\n",
       " 'e',\n",
       " 'n',\n",
       " ' ',\n",
       " 'p',\n",
       " 'h',\n",
       " 'o',\n",
       " '.',\n",
       " ' ',\n",
       " 't',\n",
       " 'h',\n",
       " 'e',\n",
       " ' ',\n",
       " 'r',\n",
       " 'i',\n",
       " 'c',\n",
       " 'e',\n",
       " ' ',\n",
       " 'f',\n",
       " 'l',\n",
       " 'o',\n",
       " 'u',\n",
       " 'r',\n",
       " ' ',\n",
       " 'r',\n",
       " 'o',\n",
       " 'l',\n",
       " 'l',\n",
       " 's',\n",
       " ' ',\n",
       " 'a',\n",
       " 'r',\n",
       " 'e',\n",
       " ' ',\n",
       " 'a',\n",
       " 'l',\n",
       " 'w',\n",
       " 'a',\n",
       " 'y',\n",
       " 's',\n",
       " ' ',\n",
       " 'f',\n",
       " 'r',\n",
       " 'e',\n",
       " 's',\n",
       " 'h',\n",
       " ' ',\n",
       " 'w',\n",
       " 'h',\n",
       " 'e',\n",
       " 'n',\n",
       " 'e',\n",
       " 'v',\n",
       " 'e',\n",
       " 'r',\n",
       " ' ',\n",
       " 'i',\n",
       " \"'\",\n",
       " 'm',\n",
       " ' ',\n",
       " 't',\n",
       " 'h',\n",
       " 'e',\n",
       " 'r',\n",
       " 'e',\n",
       " '!',\n",
       " ' ',\n",
       " 'a',\n",
       " 'n',\n",
       " 'd',\n",
       " ' ',\n",
       " 't',\n",
       " 'h',\n",
       " 'e',\n",
       " ' ',\n",
       " 'c',\n",
       " 'h',\n",
       " 'i',\n",
       " 'c',\n",
       " 'k',\n",
       " 'e',\n",
       " 'n',\n",
       " ' ',\n",
       " 'p',\n",
       " 'h',\n",
       " 'o',\n",
       " ' ',\n",
       " 'i',\n",
       " 's',\n",
       " ' ',\n",
       " 'a',\n",
       " 'l',\n",
       " 'w',\n",
       " 'a',\n",
       " 'y',\n",
       " 's',\n",
       " ' ',\n",
       " 'f',\n",
       " 'l',\n",
       " 'a',\n",
       " 'v',\n",
       " 'o',\n",
       " 'u',\n",
       " 'r',\n",
       " 'f',\n",
       " 'u',\n",
       " 'l',\n",
       " '!',\n",
       " '!',\n",
       " ' ',\n",
       " 'm',\n",
       " 'm',\n",
       " 'm',\n",
       " 'm',\n",
       " '.',\n",
       " '.',\n",
       " '.',\n",
       " '.',\n",
       " 'j',\n",
       " 'u',\n",
       " 's',\n",
       " 't',\n",
       " ' ',\n",
       " 't',\n",
       " 'h',\n",
       " 'i',\n",
       " 'n',\n",
       " 'k',\n",
       " 'i',\n",
       " 'n',\n",
       " 'g',\n",
       " ' ',\n",
       " 'o',\n",
       " 'f',\n",
       " ' ',\n",
       " 'i',\n",
       " 't',\n",
       " ' ',\n",
       " 'm',\n",
       " 'a',\n",
       " 'k',\n",
       " 'e',\n",
       " 's',\n",
       " ' ',\n",
       " 'm',\n",
       " 'e',\n",
       " ' ',\n",
       " 'w',\n",
       " 'a',\n",
       " 'n',\n",
       " 't',\n",
       " ' ',\n",
       " 's',\n",
       " 'o',\n",
       " 'm',\n",
       " 'e',\n",
       " '!',\n",
       " 'm',\n",
       " 'y',\n",
       " ' ',\n",
       " 'b',\n",
       " 'o',\n",
       " 'y',\n",
       " 'f',\n",
       " 'r',\n",
       " 'i',\n",
       " 'e',\n",
       " 'n',\n",
       " 'd',\n",
       " ' ',\n",
       " 'i',\n",
       " 's',\n",
       " ' ',\n",
       " 'v',\n",
       " 'i',\n",
       " 'e',\n",
       " 't',\n",
       " 'n',\n",
       " 'a',\n",
       " 'm',\n",
       " 'e',\n",
       " 's',\n",
       " 'e',\n",
       " ' ',\n",
       " 'a',\n",
       " 'n',\n",
       " 'd',\n",
       " ' ',\n",
       " 'h',\n",
       " 'e',\n",
       " ' ',\n",
       " 'a',\n",
       " 'g',\n",
       " 'r',\n",
       " 'e',\n",
       " 'e',\n",
       " 's',\n",
       " ' ',\n",
       " 't',\n",
       " 'h',\n",
       " 'a',\n",
       " 't',\n",
       " ' ',\n",
       " 't',\n",
       " 'h',\n",
       " 'i',\n",
       " 's',\n",
       " ' ',\n",
       " 'p',\n",
       " 'l',\n",
       " 'a',\n",
       " 'c',\n",
       " 'e',\n",
       " ' ',\n",
       " 'i',\n",
       " 's',\n",
       " ' ',\n",
       " 'a',\n",
       " 'u',\n",
       " 't',\n",
       " 'h',\n",
       " 'e',\n",
       " 'n',\n",
       " 't',\n",
       " 'i',\n",
       " 'c',\n",
       " ' ',\n",
       " 'a',\n",
       " 'n',\n",
       " 'd',\n",
       " ' ',\n",
       " 'o',\n",
       " 'n',\n",
       " 'e',\n",
       " ' ',\n",
       " 'o',\n",
       " 'f',\n",
       " ' ',\n",
       " 't',\n",
       " 'h',\n",
       " 'e',\n",
       " ' ',\n",
       " 'b',\n",
       " 'e',\n",
       " 's',\n",
       " 't',\n",
       " ' ',\n",
       " 'v',\n",
       " 'i',\n",
       " 'e',\n",
       " 't',\n",
       " 'n',\n",
       " 'a',\n",
       " 'm',\n",
       " 'e',\n",
       " 's',\n",
       " 'e',\n",
       " ' ',\n",
       " 'r',\n",
       " 'e',\n",
       " 's',\n",
       " 't',\n",
       " 'a',\n",
       " 'u',\n",
       " 'r',\n",
       " 'a',\n",
       " 'n',\n",
       " 't',\n",
       " 's',\n",
       " ' ',\n",
       " 'h',\n",
       " 'e',\n",
       " ' ',\n",
       " 'h',\n",
       " 'a',\n",
       " 's',\n",
       " ' ',\n",
       " 'e',\n",
       " 'v',\n",
       " 'e',\n",
       " 'r',\n",
       " ' ',\n",
       " 'e',\n",
       " 'a',\n",
       " 't',\n",
       " 'e',\n",
       " 'n',\n",
       " ' ',\n",
       " 'a',\n",
       " 't',\n",
       " '.',\n",
       " 'p',\n",
       " 'r',\n",
       " 'i',\n",
       " 'c',\n",
       " 'e',\n",
       " 's',\n",
       " ' ',\n",
       " 'a',\n",
       " 'r',\n",
       " 'e',\n",
       " ' ',\n",
       " 'v',\n",
       " 'e',\n",
       " 'r',\n",
       " 'y',\n",
       " ' ',\n",
       " 'r',\n",
       " 'e',\n",
       " 'a',\n",
       " 's',\n",
       " 'o',\n",
       " 'n',\n",
       " 'a',\n",
       " 'b',\n",
       " 'l',\n",
       " 'e',\n",
       " ' ',\n",
       " 't',\n",
       " 'o',\n",
       " 'o',\n",
       " '!']"
      ]
     },
     "execution_count": 10,
     "metadata": {},
     "output_type": "execute_result"
    }
   ],
   "source": [
    "review_list[4]"
   ]
  },
  {
   "cell_type": "code",
   "execution_count": 29,
   "metadata": {},
   "outputs": [],
   "source": [
    "word_level_reviews = [\"\".join(sublist) for sublist in review_list]"
   ]
  },
  {
   "cell_type": "code",
   "execution_count": 30,
   "metadata": {},
   "outputs": [
    {
     "data": {
      "text/plain": [
       "[\"i thought tidy's flowers had a great reputation as a florist, but i guess i was wrong!for valentine's day my boyfriend had ordered roses with tidy's. however, the flowers that were delivered was not what he had ordered. he had placed in an order for long stem roses, mixed with orchids and was charged for that. what had showed up was a small vase with 4 short cut roses and some greens - table ornament, not really valentine's day flowers. in speaking with another friend, something similar happened to her - her fiancee had ordered a dozen of roses for her for valentine's day while he was in germany as a surprise and they never showed up. so when he called them to complaint, they actually then called up my friend to confirm whether or not she had received the flowers. which she didn't, so they said they would resend - only to have them deliver it to the wrong place.understanding that valentine's day is the most busiest day for florists and mistakes do happen, the way they had handled it was not what would have been expected from a florist of that nature.\",\n",
       " \"really excited to hear of this restaurant coming to toronto. when it finally opened, my friend and i were really excited to try this place.service here is not great, it felt like they had forgotten about us and that they didn't care about the service as everything came out one at a time. my friend and i had each ordered a ginger beer, which came out at two separate times (it was almost as if they had to go in the back and make it themselves - that's how long it took).there is absolutely no vegetarian options, except for the one cold noodle - the mushroom bun is not vegetarian.the pork belly bun was nothing special - just a piece of meat with the bun. for my vegetarian friend, we had ordered the bun plain so she could experience it as well, and they literally just gave it to us plain, with no sauce, no kimchi.the momofuko ramen was awful. it was bland and mushy. after a few bites, i couldn't handle eating anymore.momofuko is not the place to go if you want real ramen. i've had better experience with instant noodles.\",\n",
       " \"if you have not yet tried wasabi - don't bother.it's expensive and the food is disgusting. you have to order the sushi at the table, but everything else (i.e. salads, soups, cooked food) you can get up and go get it yourself.the food is very bland, the sushi does not taste like anything - not even sure if the fish is fresh.on the weekends, everyone seems to be there for the snow crab legs - if that's what you are coming for, forget it! you have to fight/wait in-line to get it. it's probably easier to eat it at mandarin.if anyone suggests to go there, i highly recommend you go somewhere else!\",\n",
       " \"terrible service and not so great drinks.we happen to be in the plaza and saw this place for bubble tea, so we decided to grab a few to go.first of all, the two menus is located in a very awkward place (one very high up on the wall and one in the corner also by the wall), set up is not really friendly neither can it accommodate a large group of people to look at the menu at the same time.the menu items itself had different options than your typically bubble tea place. their specialty are mousse drinks - which we had no idea what exactly it was. so when we asked the staff, they said it was some sort of cheese. for a sunday afternoon, they were also out of grass jelly and pudding, which are ingredients in quite a few of their drinks (so not sure how that works).the service is really bad, they don't understand english so when you asked them about the menu items, they can't really explain what they are.we had ordered the following:- slush mango (came with tapioca and mousse)- peach ice tea- roasted oolong milk tea- supernova kumquat lemonadeand when we asked what the difference between a supernova kumquat lemonade under the galaxy drinks section (which are supposed to be layered drinks), and the kumquat lemonade, they said it had a layer of blue mousse - so we were like ok we will try it then. but what came was just a bigger cup size of the kumquat lemonade. when we asked them again, they said it was just a size difference, that's what makes it supernova - which is pretty dumb to me as on the menu both items had the same two size choices of regular or large. the mango slush and the roasted oolong milk tea wasn't bad. but the other two was not that great. the tea had a big floral taste that overpowered everything. there was no peach taste in the peach ice tea. the kumquat one had no kumquat taste and was just bitter from the lime and it tasted like it had no sugar in it at all.i guess if you need a non-busy place to use wifi and work, then this is the place, no one wants to come here.also - their gimmick also seems to be the lightbulb drinks, which were intriguing to us, but you are not allowed to take the lightbulb home...we will definitely not be returning...\",\n",
       " 'after reading the reviews on yelp, my boyfriend and i decided to give this place a try, especially since we are on a mission to try ramen in every city we visit.we were really excited, as when we were in nyc, we had really good ramen. listening to the reviews we started off with the gyoza appetizer - which was not as good as everyone says it is. it was pan fried with the thin layer of skin, but there was an aftertaste of soap water. which i should have known, since the glass of water they served us was disgusting!we had ordered the jumbo sumo ramen - beware, it is a very big bowl of noodles, which we did not expect.the sumo ramen came with a half boil egg, seaweed, pork belly, and other veggies. the noodles and pork belly was good. soup was tasteless.definitely would not go back again.']"
      ]
     },
     "execution_count": 30,
     "metadata": {},
     "output_type": "execute_result"
    }
   ],
   "source": [
    "word_level_reviews[:5]"
   ]
  },
  {
   "cell_type": "code",
   "execution_count": 17,
   "metadata": {},
   "outputs": [
    {
     "data": {
      "text/plain": [
       "10"
      ]
     },
     "execution_count": 17,
     "metadata": {},
     "output_type": "execute_result"
    }
   ],
   "source": [
    "len(word_level_reviews[0].split()[1])"
   ]
  },
  {
   "cell_type": "code",
   "execution_count": 14,
   "metadata": {},
   "outputs": [],
   "source": [
    "total_chars = 0\n",
    "total_words = 0\n",
    "chars_by_review = []\n",
    "words_by_review = []\n",
    "for review in word_level_reviews:\n",
    "    chars = 0\n",
    "    words = 0\n",
    "    word_list = review.split()\n",
    "    for word in word_list:\n",
    "        total_chars += len(word)\n",
    "        total_words += 1\n",
    "        chars += len(word)\n",
    "        words += 1\n",
    "    chars_by_review.append(chars)\n",
    "    words_by_review.append(words)"
   ]
  },
  {
   "cell_type": "code",
   "execution_count": 15,
   "metadata": {},
   "outputs": [
    {
     "name": "stdout",
     "output_type": "stream",
     "text": [
      "4.456137531468964\n"
     ]
    }
   ],
   "source": [
    "print(total_chars/total_words)"
   ]
  },
  {
   "cell_type": "code",
   "execution_count": 22,
   "metadata": {},
   "outputs": [
    {
     "data": {
      "text/plain": [
       "26.78571428571429"
      ]
     },
     "execution_count": 22,
     "metadata": {},
     "output_type": "execute_result"
    }
   ],
   "source": [
    "150/5.6"
   ]
  },
  {
   "cell_type": "code",
   "execution_count": 23,
   "metadata": {},
   "outputs": [],
   "source": [
    "chars_by_review_2 = np.array(chars_by_review, dtype=np.float)\n",
    "words_by_review_2 = np.array(words_by_review, dtype=np.float)"
   ]
  },
  {
   "cell_type": "code",
   "execution_count": 24,
   "metadata": {},
   "outputs": [],
   "source": [
    "chars_per_word_by_review = chars_by_review_2/words_by_review_2"
   ]
  },
  {
   "cell_type": "code",
   "execution_count": 31,
   "metadata": {},
   "outputs": [],
   "source": [
    "chars_per_word_by_review_v2 = pd.Series(chars_per_word_by_review)"
   ]
  },
  {
   "cell_type": "code",
   "execution_count": 32,
   "metadata": {},
   "outputs": [
    {
     "data": {
      "text/plain": [
       "count    1.287777e+06\n",
       "mean     4.746888e+00\n",
       "std      1.486093e+01\n",
       "min      1.729084e+00\n",
       "25%      4.333333e+00\n",
       "50%      4.530120e+00\n",
       "75%      4.756972e+00\n",
       "max      4.270000e+03\n",
       "dtype: float64"
      ]
     },
     "execution_count": 32,
     "metadata": {},
     "output_type": "execute_result"
    }
   ],
   "source": [
    "chars_per_word_by_review_v2.describe()"
   ]
  },
  {
   "cell_type": "code",
   "execution_count": 33,
   "metadata": {},
   "outputs": [
    {
     "data": {
      "text/plain": [
       "(array([  0.00000000e+00,   0.00000000e+00,   0.00000000e+00,\n",
       "          0.00000000e+00,   0.00000000e+00,   0.00000000e+00,\n",
       "          0.00000000e+00,   0.00000000e+00,   0.00000000e+00,\n",
       "          0.00000000e+00,   0.00000000e+00,   0.00000000e+00,\n",
       "          0.00000000e+00,   0.00000000e+00,   0.00000000e+00,\n",
       "          0.00000000e+00,   0.00000000e+00,   0.00000000e+00,\n",
       "          0.00000000e+00,   0.00000000e+00,   0.00000000e+00,\n",
       "          0.00000000e+00,   0.00000000e+00,   0.00000000e+00,\n",
       "          0.00000000e+00,   0.00000000e+00,   0.00000000e+00,\n",
       "          0.00000000e+00,   0.00000000e+00,   0.00000000e+00,\n",
       "          0.00000000e+00,   0.00000000e+00,   0.00000000e+00,\n",
       "          0.00000000e+00,   1.00000000e+00,   0.00000000e+00,\n",
       "          0.00000000e+00,   0.00000000e+00,   0.00000000e+00,\n",
       "          0.00000000e+00,   0.00000000e+00,   0.00000000e+00,\n",
       "          0.00000000e+00,   0.00000000e+00,   0.00000000e+00,\n",
       "          1.00000000e+00,   0.00000000e+00,   0.00000000e+00,\n",
       "          0.00000000e+00,   0.00000000e+00,   0.00000000e+00,\n",
       "          0.00000000e+00,   0.00000000e+00,   0.00000000e+00,\n",
       "          0.00000000e+00,   0.00000000e+00,   0.00000000e+00,\n",
       "          0.00000000e+00,   0.00000000e+00,   0.00000000e+00,\n",
       "          1.00000000e+00,   0.00000000e+00,   2.00000000e+00,\n",
       "          3.00000000e+00,   2.00000000e+00,   2.00000000e+00,\n",
       "          2.00000000e+00,   5.00000000e+00,   1.60000000e+01,\n",
       "          3.40000000e+01,   5.80000000e+01,   1.14000000e+02,\n",
       "          2.70000000e+02,   4.66000000e+02,   9.20000000e+02,\n",
       "          1.80300000e+03,   3.02700000e+03,   5.11400000e+03,\n",
       "          8.01200000e+03,   1.12440000e+04,   1.97380000e+04,\n",
       "          2.61780000e+04,   3.42580000e+04,   4.40330000e+04,\n",
       "          5.41290000e+04,   6.45520000e+04,   7.31200000e+04,\n",
       "          7.72700000e+04,   8.44590000e+04,   8.08280000e+04,\n",
       "          8.65270000e+04,   8.09140000e+04,   7.26570000e+04,\n",
       "          6.75900000e+04,   5.94270000e+04,   5.57620000e+04,\n",
       "          4.46800000e+04,   3.87140000e+04,   3.34710000e+04,\n",
       "          2.44570000e+04,   2.60230000e+04,   1.94130000e+04,\n",
       "          1.50760000e+04,   1.24220000e+04,   1.01210000e+04,\n",
       "          8.73100000e+03,   6.61900000e+03,   5.36700000e+03,\n",
       "          4.51200000e+03,   3.36000000e+03,   3.12000000e+03,\n",
       "          2.43400000e+03,   1.96100000e+03,   1.62800000e+03,\n",
       "          1.48700000e+03,   1.32900000e+03,   1.01500000e+03,\n",
       "          9.25000000e+02,   8.36000000e+02,   6.71000000e+02,\n",
       "          7.63000000e+02,   5.83000000e+02,   4.89000000e+02,\n",
       "          4.57000000e+02,   4.34000000e+02,   3.68000000e+02,\n",
       "          3.47000000e+02,   2.86000000e+02,   2.92000000e+02,\n",
       "          2.40000000e+02,   2.22000000e+02,   2.03000000e+02,\n",
       "          1.62000000e+02,   1.40000000e+02,   1.38000000e+02,\n",
       "          1.26000000e+02,   1.21000000e+02,   8.70000000e+01,\n",
       "          1.04000000e+02,   7.40000000e+01,   7.60000000e+01,\n",
       "          5.90000000e+01,   5.30000000e+01,   6.10000000e+01,\n",
       "          5.70000000e+01,   4.20000000e+01,   4.30000000e+01,\n",
       "          2.20000000e+01,   3.40000000e+01,   3.30000000e+01,\n",
       "          3.20000000e+01,   2.80000000e+01,   1.80000000e+01,\n",
       "          2.10000000e+01,   1.60000000e+01,   2.00000000e+01,\n",
       "          2.90000000e+01,   8.00000000e+00,   1.00000000e+01,\n",
       "          8.00000000e+00,   1.20000000e+01,   9.00000000e+00,\n",
       "          8.00000000e+00,   9.00000000e+00,   7.00000000e+00,\n",
       "          7.00000000e+00,   6.00000000e+00,   6.00000000e+00,\n",
       "          2.00000000e+00,   4.00000000e+00,   3.00000000e+00,\n",
       "          3.00000000e+00,   7.00000000e+00,   4.00000000e+00,\n",
       "          6.00000000e+00,   2.00000000e+00,   3.00000000e+00,\n",
       "          0.00000000e+00,   3.00000000e+00,   1.00000000e+00,\n",
       "          2.00000000e+00,   3.00000000e+00,   1.00000000e+00,\n",
       "          3.00000000e+00,   0.00000000e+00,   0.00000000e+00,\n",
       "          2.00000000e+00,   2.00000000e+00,   2.00000000e+00,\n",
       "          1.00000000e+00,   1.00000000e+00,   0.00000000e+00,\n",
       "          0.00000000e+00,   3.00000000e+00,   1.00000000e+00,\n",
       "          2.00000000e+00,   0.00000000e+00,   2.00000000e+00,\n",
       "          1.00000000e+00,   2.00000000e+00]),\n",
       " array([  0.  ,   0.05,   0.1 ,   0.15,   0.2 ,   0.25,   0.3 ,   0.35,\n",
       "          0.4 ,   0.45,   0.5 ,   0.55,   0.6 ,   0.65,   0.7 ,   0.75,\n",
       "          0.8 ,   0.85,   0.9 ,   0.95,   1.  ,   1.05,   1.1 ,   1.15,\n",
       "          1.2 ,   1.25,   1.3 ,   1.35,   1.4 ,   1.45,   1.5 ,   1.55,\n",
       "          1.6 ,   1.65,   1.7 ,   1.75,   1.8 ,   1.85,   1.9 ,   1.95,\n",
       "          2.  ,   2.05,   2.1 ,   2.15,   2.2 ,   2.25,   2.3 ,   2.35,\n",
       "          2.4 ,   2.45,   2.5 ,   2.55,   2.6 ,   2.65,   2.7 ,   2.75,\n",
       "          2.8 ,   2.85,   2.9 ,   2.95,   3.  ,   3.05,   3.1 ,   3.15,\n",
       "          3.2 ,   3.25,   3.3 ,   3.35,   3.4 ,   3.45,   3.5 ,   3.55,\n",
       "          3.6 ,   3.65,   3.7 ,   3.75,   3.8 ,   3.85,   3.9 ,   3.95,\n",
       "          4.  ,   4.05,   4.1 ,   4.15,   4.2 ,   4.25,   4.3 ,   4.35,\n",
       "          4.4 ,   4.45,   4.5 ,   4.55,   4.6 ,   4.65,   4.7 ,   4.75,\n",
       "          4.8 ,   4.85,   4.9 ,   4.95,   5.  ,   5.05,   5.1 ,   5.15,\n",
       "          5.2 ,   5.25,   5.3 ,   5.35,   5.4 ,   5.45,   5.5 ,   5.55,\n",
       "          5.6 ,   5.65,   5.7 ,   5.75,   5.8 ,   5.85,   5.9 ,   5.95,\n",
       "          6.  ,   6.05,   6.1 ,   6.15,   6.2 ,   6.25,   6.3 ,   6.35,\n",
       "          6.4 ,   6.45,   6.5 ,   6.55,   6.6 ,   6.65,   6.7 ,   6.75,\n",
       "          6.8 ,   6.85,   6.9 ,   6.95,   7.  ,   7.05,   7.1 ,   7.15,\n",
       "          7.2 ,   7.25,   7.3 ,   7.35,   7.4 ,   7.45,   7.5 ,   7.55,\n",
       "          7.6 ,   7.65,   7.7 ,   7.75,   7.8 ,   7.85,   7.9 ,   7.95,\n",
       "          8.  ,   8.05,   8.1 ,   8.15,   8.2 ,   8.25,   8.3 ,   8.35,\n",
       "          8.4 ,   8.45,   8.5 ,   8.55,   8.6 ,   8.65,   8.7 ,   8.75,\n",
       "          8.8 ,   8.85,   8.9 ,   8.95,   9.  ,   9.05,   9.1 ,   9.15,\n",
       "          9.2 ,   9.25,   9.3 ,   9.35,   9.4 ,   9.45,   9.5 ,   9.55,\n",
       "          9.6 ,   9.65,   9.7 ,   9.75,   9.8 ,   9.85,   9.9 ,   9.95,  10.  ]),\n",
       " <a list of 200 Patch objects>)"
      ]
     },
     "execution_count": 33,
     "metadata": {},
     "output_type": "execute_result"
    },
    {
     "data": {
      "image/png": "[encoded data removed]",
      "text/plain": [
       "<matplotlib.figure.Figure at 0x7f16ba16b978>"
      ]
     },
     "metadata": {},
     "output_type": "display_data"
    }
   ],
   "source": [
    "#bins = numpy.linspace(0, 4300, 100)\n",
    "plt.hist(chars_per_word_by_review, bins=200, range=(0,10))"
   ]
  },
  {
   "cell_type": "code",
   "execution_count": 20,
   "metadata": {},
   "outputs": [],
   "source": [
    "#combined_review_list = [item for sublist in review_list for item in sublist]\n",
    "training_review_list = [item for sublist in review_list[:250000] for item in sublist]"
   ]
  },
  {
   "cell_type": "code",
   "execution_count": 31,
   "metadata": {},
   "outputs": [],
   "source": [
    "training_review_list = [item for sublist in review_list for item in sublist]"
   ]
  },
  {
   "cell_type": "code",
   "execution_count": 17,
   "metadata": {},
   "outputs": [
    {
     "data": {
      "text/plain": [
       "['s', 'm', 'a', 'l', 'l', ' ', 'u', 'n', 'a', 's']"
      ]
     },
     "execution_count": 17,
     "metadata": {},
     "output_type": "execute_result"
    }
   ],
   "source": [
    "training_review_list[:10]"
   ]
  },
  {
   "cell_type": "code",
   "execution_count": 32,
   "metadata": {},
   "outputs": [],
   "source": [
    "char_counts = collections.Counter(training_review_list).items()"
   ]
  },
  {
   "cell_type": "code",
   "execution_count": 33,
   "metadata": {},
   "outputs": [
    {
     "name": "stdout",
     "output_type": "stream",
     "text": [
      "('i', 27683095)\n",
      "(' ', 98829796)\n",
      "('t', 38703349)\n",
      "('h', 21194186)\n",
      "('o', 31171966)\n",
      "('u', 11569292)\n",
      "('g', 8157368)\n",
      "('d', 17786300)\n",
      "('y', 9147039)\n",
      "(\"'\", 986284)\n",
      "('s', 24289636)\n",
      "('f', 7986767)\n",
      "('l', 15908974)\n",
      "('w', 10609027)\n",
      "('e', 51887096)\n",
      "('r', 23254356)\n",
      "('a', 33280588)\n",
      "('p', 7653538)\n",
      "('n', 26286204)\n",
      "(',', 2821557)\n",
      "('b', 6278561)\n",
      "('!', 945841)\n",
      "('v', 4707074)\n",
      "('m', 9998608)\n",
      "('.', 6806243)\n",
      "('c', 10933161)\n",
      "('x', 782855)\n",
      "('4', 200279)\n",
      "('-', 461514)\n",
      "('k', 4292915)\n",
      "('z', 416613)\n",
      "('(', 299081)\n",
      "(')', 307904)\n",
      "('j', 592798)\n",
      "('/', 131380)\n",
      "('q', 277312)\n",
      "(':', 151319)\n",
      "('7', 89922)\n",
      "('8', 111203)\n",
      "('3', 316965)\n",
      "('$', 266842)\n",
      "('1', 478885)\n",
      "('2', 391931)\n",
      "('5', 323438)\n",
      "('0', 652118)\n",
      "('9', 127978)\n",
      "('%', 27315)\n",
      "('6', 109599)\n",
      "('\"', 598031)\n",
      "('?', 315663)\n",
      "('&', 71554)\n",
      "('=', 6435)\n",
      "('*', 56424)\n",
      "(';', 34802)\n",
      "('+', 16051)\n",
      "('[', 1932)\n",
      "(']', 1902)\n",
      "('#', 12743)\n",
      "('~', 2940)\n",
      "('@', 4910)\n",
      "('^', 479)\n",
      "('_', 9829)\n",
      "('`', 604)\n",
      "('|', 207)\n",
      "('}', 238)\n",
      "('{', 224)\n"
     ]
    }
   ],
   "source": [
    "for item in char_counts:\n",
    "    print(item)"
   ]
  },
  {
   "cell_type": "code",
   "execution_count": 14,
   "metadata": {},
   "outputs": [],
   "source": [
    "#combined_review_list[:10]"
   ]
  },
  {
   "cell_type": "code",
   "execution_count": 12,
   "metadata": {},
   "outputs": [],
   "source": [
    "#unique_characters = list(set(combined_review_list))\n",
    "unique_characters = list(set(training_review_list))"
   ]
  },
  {
   "cell_type": "code",
   "execution_count": 13,
   "metadata": {},
   "outputs": [],
   "source": [
    "#vocabulary\n",
    "char_dict = {w:i for i, w in enumerate(unique_characters)}"
   ]
  },
  {
   "cell_type": "code",
   "execution_count": 17,
   "metadata": {},
   "outputs": [
    {
     "name": "stdout",
     "output_type": "stream",
     "text": [
      "{' ': 0, 'v': 1, 'z': 2, '7': 3, 'x': 4, 'b': 5, 'p': 6, 'y': 7, '=': 8, '~': 9, '#': 10, ';': 11, '.': 12, '{': 13, 's': 14, '(': 15, '5': 16, '\"': 17, '?': 18, 'j': 19, '9': 20, 'o': 21, '_': 22, ')': 23, '`': 24, 'q': 25, '+': 26, 'c': 27, ':': 28, '1': 29, \"'\": 30, '*': 31, 'a': 32, 'k': 33, 'l': 34, 'd': 35, '$': 36, '[': 37, '/': 38, '&': 39, ']': 40, 'u': 41, '3': 42, ',': 43, '}': 44, '0': 45, 'h': 46, '@': 47, '!': 48, 'i': 49, '6': 50, 'r': 51, '4': 52, '2': 53, 'g': 54, 'm': 55, '-': 56, '^': 57, '%': 58, 't': 59, '8': 60, 'w': 61, '<SOR>': 62, 'n': 63, 'e': 64, '<EOR>': 65, 'f': 66, '|': 67}\n"
     ]
    }
   ],
   "source": [
    "#still need to add a token for 'unknown'\n",
    "print(char_dict)"
   ]
  },
  {
   "cell_type": "code",
   "execution_count": 14,
   "metadata": {},
   "outputs": [],
   "source": [
    "#convert to flat (1D) np.array(int) of ids\n",
    "#add memory to VM and remove 1000 slice\n",
    "#combined_review_ids = [char_dict.get(token) for token in combined_review_list[:1000]]\n",
    "training_review_ids = [char_dict.get(token) for token in training_review_list]"
   ]
  },
  {
   "cell_type": "code",
   "execution_count": null,
   "metadata": {},
   "outputs": [],
   "source": [
    "#combined_review_ids[:50]\n",
    "training_review_ids[:100]"
   ]
  },
  {
   "cell_type": "code",
   "execution_count": 16,
   "metadata": {},
   "outputs": [
    {
     "name": "stdout",
     "output_type": "stream",
     "text": [
      "[28 53 25 ..., 41 21 37]\n"
     ]
    }
   ],
   "source": [
    "#all_reviews = np.array(combined_review_ids)\n",
    "#print(all_reviews)\n",
    "train_ids = np.array(training_review_ids)\n",
    "print(train_ids)"
   ]
  }
 ],
 "metadata": {
  "kernelspec": {
   "display_name": "Python 3",
   "language": "python",
   "name": "python3"
  },
  "language_info": {
   "codemirror_mode": {
    "name": "ipython",
    "version": 3
   },
   "file_extension": ".py",
   "mimetype": "text/x-python",
   "name": "python",
   "nbconvert_exporter": "python",
   "pygments_lexer": "ipython3",
   "version": "3.6.4"
  }
 },
 "nbformat": 4,
 "nbformat_minor": 2
}
